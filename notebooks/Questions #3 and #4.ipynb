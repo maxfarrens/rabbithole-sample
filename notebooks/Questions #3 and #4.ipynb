{
 "cells": [
  {
   "cell_type": "code",
   "execution_count": 2,
   "id": "043113cf",
   "metadata": {},
   "outputs": [],
   "source": [
    "# imports\n",
    "import pandas as pd\n",
    "from datetime import datetime, timedelta"
   ]
  },
  {
   "cell_type": "code",
   "execution_count": 5,
   "id": "4812e9a4",
   "metadata": {},
   "outputs": [
    {
     "data": {
      "text/html": [
       "<div>\n",
       "<style scoped>\n",
       "    .dataframe tbody tr th:only-of-type {\n",
       "        vertical-align: middle;\n",
       "    }\n",
       "\n",
       "    .dataframe tbody tr th {\n",
       "        vertical-align: top;\n",
       "    }\n",
       "\n",
       "    .dataframe thead th {\n",
       "        text-align: right;\n",
       "    }\n",
       "</style>\n",
       "<table border=\"1\" class=\"dataframe\">\n",
       "  <thead>\n",
       "    <tr style=\"text-align: right;\">\n",
       "      <th></th>\n",
       "      <th>address</th>\n",
       "      <th>balancer_txns_before</th>\n",
       "      <th>balancer_txns_after</th>\n",
       "      <th>first_balancer_txn</th>\n",
       "      <th>last_balancer_txn</th>\n",
       "    </tr>\n",
       "  </thead>\n",
       "  <tbody>\n",
       "    <tr>\n",
       "      <th>0</th>\n",
       "      <td>0x864d69e84bcbf88dc63c0333501b1db5d3fdbf28</td>\n",
       "      <td>91.0</td>\n",
       "      <td>78.0</td>\n",
       "      <td>2021-07-11</td>\n",
       "      <td>2021-11-08</td>\n",
       "    </tr>\n",
       "    <tr>\n",
       "      <th>1</th>\n",
       "      <td>0xd81aff7498da10775a32e0148d0daca24a7a3300</td>\n",
       "      <td>3.0</td>\n",
       "      <td>73.0</td>\n",
       "      <td>2021-08-04</td>\n",
       "      <td>2021-11-05</td>\n",
       "    </tr>\n",
       "    <tr>\n",
       "      <th>2</th>\n",
       "      <td>0xe233be6844671b8569a07cdb0b21ed910efd7652</td>\n",
       "      <td>0.0</td>\n",
       "      <td>42.0</td>\n",
       "      <td>1900-01-01</td>\n",
       "      <td>2021-11-08</td>\n",
       "    </tr>\n",
       "  </tbody>\n",
       "</table>\n",
       "</div>"
      ],
      "text/plain": [
       "                                      address  balancer_txns_before  \\\n",
       "0  0x864d69e84bcbf88dc63c0333501b1db5d3fdbf28                  91.0   \n",
       "1  0xd81aff7498da10775a32e0148d0daca24a7a3300                   3.0   \n",
       "2  0xe233be6844671b8569a07cdb0b21ed910efd7652                   0.0   \n",
       "\n",
       "   balancer_txns_after first_balancer_txn last_balancer_txn  \n",
       "0                 78.0         2021-07-11        2021-11-08  \n",
       "1                 73.0         2021-08-04        2021-11-05  \n",
       "2                 42.0         1900-01-01        2021-11-08  "
      ]
     },
     "execution_count": 5,
     "metadata": {},
     "output_type": "execute_result"
    }
   ],
   "source": [
    "# read in data, fill in NaNs, convert datatypes\n",
    "balancer = pd.read_csv('../outputs/rabbithole_balancer.csv')\n",
    "balancer['balancer_txns_before'] = balancer['balancer_txns_before'].fillna(0)\n",
    "balancer['balancer_txns_after'] = balancer['balancer_txns_after'].fillna(0)\n",
    "balancer['first_balancer_txn'] = balancer['first_balancer_txn'].fillna('1900-01-01') # placeholder date\n",
    "balancer['last_balancer_txn'] = balancer['last_balancer_txn'].fillna('2100-01-01') # placeholder date\n",
    "balancer['first_balancer_txn'] = [datetime.strptime(balancer['first_balancer_txn'][row], '%Y-%m-%d') for row in range(len(balancer))]\n",
    "balancer['last_balancer_txn'] = [datetime.strptime(balancer['last_balancer_txn'][row], '%Y-%m-%d') for row in range(len(balancer))]\n",
    "balancer.head(3)"
   ]
  },
  {
   "cell_type": "markdown",
   "id": "930563f3",
   "metadata": {},
   "source": [
    "## Answering Questions #3 and #4: New users and long-term users onboarded"
   ]
  },
  {
   "cell_type": "code",
   "execution_count": 6,
   "id": "e0ce4966",
   "metadata": {},
   "outputs": [],
   "source": [
    "# calculate the number of new users and the number of continued users\n",
    "# find the avg number of txns the continued users have had on Balancer since quest completion\n",
    "# find the avg date of last Balancer txn for these users since quest completion\n",
    "new_users = balancer[balancer['balancer_txns_before'] == 0]\n",
    "continued_users = new_users[new_users['balancer_txns_after'] != 0]\n",
    "txns_since = round(continued_users.mean(numeric_only=True)['balancer_txns_after'], 1)\n",
    "last_date_avg = datetime.strftime(continued_users['last_balancer_txn'].mean(), '%B %d, %Y')"
   ]
  },
  {
   "cell_type": "code",
   "execution_count": 7,
   "id": "94f7d42f",
   "metadata": {},
   "outputs": [
    {
     "name": "stdout",
     "output_type": "stream",
     "text": [
      "Out of the 2826 unique wallet addresses that completed the Balancer on Polygon quest, ~97% had never used Balancer on Polygon before. Thats 2749 potential new users!\n",
      "\n",
      "Out of those 2749 new users, ~11% have continued to use Balancer on Polygon since completing the quest on RabbitHole, meaning the quest led to the acquisition of 296 new users.\n",
      "\n",
      "On average, the 296 new users have interacted with Balancer on Polygon 2.4 times each in the ~2 months since quest completion, and their average last interaction date was September 22, 2021.\n"
     ]
    }
   ],
   "source": [
    "# pretty print outputy\n",
    "print(f'Out of the {len(balancer)} unique wallet addresses that completed the Balancer \\\n",
    "on Polygon quest, ~{round(100*len(new_users)/len(balancer))}% had never used Balancer \\\n",
    "on Polygon before. Thats {len(new_users)} potential new users!\\n')\n",
    "\n",
    "print(f'Out of those {len(new_users)} new users, ~{round(100*len(continued_users) / len(new_users))}% \\\n",
    "have continued to use Balancer on Polygon since completing the quest on RabbitHole, meaning the quest \\\n",
    "led to the acquisition of {len(continued_users)} new users.\\n')\n",
    "\n",
    "print(f'On average, the {len(continued_users)} new users have interacted with Balancer on Polygon \\\n",
    "{txns_since} times each in the ~2 months since quest completion, and their average last interaction \\\n",
    "date was {last_date_avg}.')"
   ]
  }
 ],
 "metadata": {
  "kernelspec": {
   "display_name": "Python 3",
   "language": "python",
   "name": "python3"
  },
  "language_info": {
   "codemirror_mode": {
    "name": "ipython",
    "version": 3
   },
   "file_extension": ".py",
   "mimetype": "text/x-python",
   "name": "python",
   "nbconvert_exporter": "python",
   "pygments_lexer": "ipython3",
   "version": "3.8.8"
  }
 },
 "nbformat": 4,
 "nbformat_minor": 5
}
