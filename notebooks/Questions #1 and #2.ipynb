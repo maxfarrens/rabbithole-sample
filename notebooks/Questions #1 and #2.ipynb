{
 "cells": [
  {
   "cell_type": "code",
   "execution_count": 6,
   "id": "8c2a8794",
   "metadata": {},
   "outputs": [],
   "source": [
    "# imports\n",
    "import pandas as pd\n",
    "from datetime import datetime as dt\n",
    "from datetime import timedelta as td\n",
    "import seaborn as sns"
   ]
  },
  {
   "cell_type": "code",
   "execution_count": 7,
   "id": "cda46c54",
   "metadata": {},
   "outputs": [
    {
     "data": {
      "text/html": [
       "<div>\n",
       "<style scoped>\n",
       "    .dataframe tbody tr th:only-of-type {\n",
       "        vertical-align: middle;\n",
       "    }\n",
       "\n",
       "    .dataframe tbody tr th {\n",
       "        vertical-align: top;\n",
       "    }\n",
       "\n",
       "    .dataframe thead th {\n",
       "        text-align: right;\n",
       "    }\n",
       "</style>\n",
       "<table border=\"1\" class=\"dataframe\">\n",
       "  <thead>\n",
       "    <tr style=\"text-align: right;\">\n",
       "      <th></th>\n",
       "      <th>address</th>\n",
       "      <th>num_txns</th>\n",
       "      <th>first_txn_date</th>\n",
       "      <th>last_txn_date</th>\n",
       "      <th>first_chain</th>\n",
       "      <th>address_chain</th>\n",
       "      <th>first_completion_date</th>\n",
       "      <th>NFT_1</th>\n",
       "      <th>NFT_2</th>\n",
       "      <th>NFT_3</th>\n",
       "      <th>...</th>\n",
       "      <th>NFT_5</th>\n",
       "      <th>NFT_6</th>\n",
       "      <th>NFT_7</th>\n",
       "      <th>NFT_8</th>\n",
       "      <th>NFT_9</th>\n",
       "      <th>NFT_10</th>\n",
       "      <th>NFT_11</th>\n",
       "      <th>NFT_12</th>\n",
       "      <th>NFT_13</th>\n",
       "      <th>total_nfts</th>\n",
       "    </tr>\n",
       "  </thead>\n",
       "  <tbody>\n",
       "    <tr>\n",
       "      <th>0</th>\n",
       "      <td>0xefbc9ff5e62628ac140d7e76b88c73ff5fcd86bf</td>\n",
       "      <td>0</td>\n",
       "      <td>NaN</td>\n",
       "      <td>NaN</td>\n",
       "      <td>NaN</td>\n",
       "      <td>NaN</td>\n",
       "      <td>NaN</td>\n",
       "      <td>NaN</td>\n",
       "      <td>NaN</td>\n",
       "      <td>NaN</td>\n",
       "      <td>...</td>\n",
       "      <td>NaN</td>\n",
       "      <td>NaN</td>\n",
       "      <td>NaN</td>\n",
       "      <td>NaN</td>\n",
       "      <td>NaN</td>\n",
       "      <td>NaN</td>\n",
       "      <td>NaN</td>\n",
       "      <td>NaN</td>\n",
       "      <td>NaN</td>\n",
       "      <td>NaN</td>\n",
       "    </tr>\n",
       "    <tr>\n",
       "      <th>1</th>\n",
       "      <td>0x3714c0b6f3c69016974db061b534006075225e21</td>\n",
       "      <td>0</td>\n",
       "      <td>NaN</td>\n",
       "      <td>NaN</td>\n",
       "      <td>NaN</td>\n",
       "      <td>NaN</td>\n",
       "      <td>NaN</td>\n",
       "      <td>NaN</td>\n",
       "      <td>NaN</td>\n",
       "      <td>NaN</td>\n",
       "      <td>...</td>\n",
       "      <td>NaN</td>\n",
       "      <td>NaN</td>\n",
       "      <td>NaN</td>\n",
       "      <td>NaN</td>\n",
       "      <td>NaN</td>\n",
       "      <td>NaN</td>\n",
       "      <td>NaN</td>\n",
       "      <td>NaN</td>\n",
       "      <td>NaN</td>\n",
       "      <td>NaN</td>\n",
       "    </tr>\n",
       "    <tr>\n",
       "      <th>2</th>\n",
       "      <td>0x841f9b2f645df4755ba8d0391d65e6f2228eab42</td>\n",
       "      <td>0</td>\n",
       "      <td>NaN</td>\n",
       "      <td>NaN</td>\n",
       "      <td>NaN</td>\n",
       "      <td>NaN</td>\n",
       "      <td>NaN</td>\n",
       "      <td>NaN</td>\n",
       "      <td>NaN</td>\n",
       "      <td>NaN</td>\n",
       "      <td>...</td>\n",
       "      <td>NaN</td>\n",
       "      <td>NaN</td>\n",
       "      <td>NaN</td>\n",
       "      <td>NaN</td>\n",
       "      <td>NaN</td>\n",
       "      <td>NaN</td>\n",
       "      <td>NaN</td>\n",
       "      <td>NaN</td>\n",
       "      <td>NaN</td>\n",
       "      <td>NaN</td>\n",
       "    </tr>\n",
       "  </tbody>\n",
       "</table>\n",
       "<p>3 rows × 21 columns</p>\n",
       "</div>"
      ],
      "text/plain": [
       "                                      address  num_txns first_txn_date  \\\n",
       "0  0xefbc9ff5e62628ac140d7e76b88c73ff5fcd86bf         0            NaN   \n",
       "1  0x3714c0b6f3c69016974db061b534006075225e21         0            NaN   \n",
       "2  0x841f9b2f645df4755ba8d0391d65e6f2228eab42         0            NaN   \n",
       "\n",
       "  last_txn_date first_chain address_chain first_completion_date  NFT_1  NFT_2  \\\n",
       "0           NaN         NaN           NaN                   NaN    NaN    NaN   \n",
       "1           NaN         NaN           NaN                   NaN    NaN    NaN   \n",
       "2           NaN         NaN           NaN                   NaN    NaN    NaN   \n",
       "\n",
       "   NFT_3  ...  NFT_5  NFT_6  NFT_7  NFT_8  NFT_9  NFT_10  NFT_11  NFT_12  \\\n",
       "0    NaN  ...    NaN    NaN    NaN    NaN    NaN     NaN     NaN     NaN   \n",
       "1    NaN  ...    NaN    NaN    NaN    NaN    NaN     NaN     NaN     NaN   \n",
       "2    NaN  ...    NaN    NaN    NaN    NaN    NaN     NaN     NaN     NaN   \n",
       "\n",
       "   NFT_13  total_nfts  \n",
       "0     NaN         NaN  \n",
       "1     NaN         NaN  \n",
       "2     NaN         NaN  \n",
       "\n",
       "[3 rows x 21 columns]"
      ]
     },
     "execution_count": 7,
     "metadata": {},
     "output_type": "execute_result"
    }
   ],
   "source": [
    "# read in data from sql queries\n",
    "# NaN values mean not found in query (but not an error!)\n",
    "rh = pd.read_csv('../outputs/rabbithole_forpandas.csv')\n",
    "rh.head(3)"
   ]
  },
  {
   "cell_type": "markdown",
   "id": "e1d16857",
   "metadata": {},
   "source": [
    "## Answering Question #1: Age of wallets"
   ]
  },
  {
   "cell_type": "code",
   "execution_count": 8,
   "id": "5da83509",
   "metadata": {},
   "outputs": [
    {
     "data": {
      "text/html": [
       "<div>\n",
       "<style scoped>\n",
       "    .dataframe tbody tr th:only-of-type {\n",
       "        vertical-align: middle;\n",
       "    }\n",
       "\n",
       "    .dataframe tbody tr th {\n",
       "        vertical-align: top;\n",
       "    }\n",
       "\n",
       "    .dataframe thead th {\n",
       "        text-align: right;\n",
       "    }\n",
       "</style>\n",
       "<table border=\"1\" class=\"dataframe\">\n",
       "  <thead>\n",
       "    <tr style=\"text-align: right;\">\n",
       "      <th></th>\n",
       "      <th>index</th>\n",
       "      <th>address</th>\n",
       "      <th>num_txns</th>\n",
       "      <th>first_txn_date</th>\n",
       "      <th>last_txn_date</th>\n",
       "      <th>first_chain</th>\n",
       "      <th>address_chain</th>\n",
       "      <th>first_completion_date</th>\n",
       "      <th>NFT_1</th>\n",
       "      <th>NFT_2</th>\n",
       "      <th>...</th>\n",
       "      <th>NFT_6</th>\n",
       "      <th>NFT_7</th>\n",
       "      <th>NFT_8</th>\n",
       "      <th>NFT_9</th>\n",
       "      <th>NFT_10</th>\n",
       "      <th>NFT_11</th>\n",
       "      <th>NFT_12</th>\n",
       "      <th>NFT_13</th>\n",
       "      <th>total_nfts</th>\n",
       "      <th>first_txn_year</th>\n",
       "    </tr>\n",
       "  </thead>\n",
       "  <tbody>\n",
       "    <tr>\n",
       "      <th>0</th>\n",
       "      <td>1928</td>\n",
       "      <td>0x70b99c19d3aaaa1535bfec201af1924b7252eeaf</td>\n",
       "      <td>100</td>\n",
       "      <td>2019-08-04</td>\n",
       "      <td>2020-06-19</td>\n",
       "      <td>ethereum</td>\n",
       "      <td>both</td>\n",
       "      <td>NaN</td>\n",
       "      <td>NaN</td>\n",
       "      <td>NaN</td>\n",
       "      <td>...</td>\n",
       "      <td>NaN</td>\n",
       "      <td>NaN</td>\n",
       "      <td>NaN</td>\n",
       "      <td>NaN</td>\n",
       "      <td>NaN</td>\n",
       "      <td>NaN</td>\n",
       "      <td>NaN</td>\n",
       "      <td>NaN</td>\n",
       "      <td>NaN</td>\n",
       "      <td>2019</td>\n",
       "    </tr>\n",
       "    <tr>\n",
       "      <th>1</th>\n",
       "      <td>1929</td>\n",
       "      <td>0xc3f3f187cd44b1c4ef00da50c78422c9ec47e1c1</td>\n",
       "      <td>20</td>\n",
       "      <td>2021-01-28</td>\n",
       "      <td>2021-03-02</td>\n",
       "      <td>ethereum</td>\n",
       "      <td>both</td>\n",
       "      <td>NaN</td>\n",
       "      <td>NaN</td>\n",
       "      <td>NaN</td>\n",
       "      <td>...</td>\n",
       "      <td>NaN</td>\n",
       "      <td>NaN</td>\n",
       "      <td>NaN</td>\n",
       "      <td>NaN</td>\n",
       "      <td>NaN</td>\n",
       "      <td>NaN</td>\n",
       "      <td>NaN</td>\n",
       "      <td>NaN</td>\n",
       "      <td>NaN</td>\n",
       "      <td>2021</td>\n",
       "    </tr>\n",
       "    <tr>\n",
       "      <th>2</th>\n",
       "      <td>1930</td>\n",
       "      <td>0xeeaf61935c0c48f8f8cc28c381683d7fa2f75e1c</td>\n",
       "      <td>636</td>\n",
       "      <td>2021-01-30</td>\n",
       "      <td>2021-03-02</td>\n",
       "      <td>ethereum</td>\n",
       "      <td>both</td>\n",
       "      <td>NaN</td>\n",
       "      <td>NaN</td>\n",
       "      <td>NaN</td>\n",
       "      <td>...</td>\n",
       "      <td>NaN</td>\n",
       "      <td>NaN</td>\n",
       "      <td>NaN</td>\n",
       "      <td>NaN</td>\n",
       "      <td>NaN</td>\n",
       "      <td>NaN</td>\n",
       "      <td>NaN</td>\n",
       "      <td>NaN</td>\n",
       "      <td>NaN</td>\n",
       "      <td>2021</td>\n",
       "    </tr>\n",
       "  </tbody>\n",
       "</table>\n",
       "<p>3 rows × 23 columns</p>\n",
       "</div>"
      ],
      "text/plain": [
       "   index                                     address  num_txns first_txn_date  \\\n",
       "0   1928  0x70b99c19d3aaaa1535bfec201af1924b7252eeaf       100     2019-08-04   \n",
       "1   1929  0xc3f3f187cd44b1c4ef00da50c78422c9ec47e1c1        20     2021-01-28   \n",
       "2   1930  0xeeaf61935c0c48f8f8cc28c381683d7fa2f75e1c       636     2021-01-30   \n",
       "\n",
       "  last_txn_date first_chain address_chain first_completion_date  NFT_1  NFT_2  \\\n",
       "0    2020-06-19    ethereum          both                   NaN    NaN    NaN   \n",
       "1    2021-03-02    ethereum          both                   NaN    NaN    NaN   \n",
       "2    2021-03-02    ethereum          both                   NaN    NaN    NaN   \n",
       "\n",
       "   ...  NFT_6  NFT_7  NFT_8  NFT_9  NFT_10  NFT_11  NFT_12  NFT_13  \\\n",
       "0  ...    NaN    NaN    NaN    NaN     NaN     NaN     NaN     NaN   \n",
       "1  ...    NaN    NaN    NaN    NaN     NaN     NaN     NaN     NaN   \n",
       "2  ...    NaN    NaN    NaN    NaN     NaN     NaN     NaN     NaN   \n",
       "\n",
       "   total_nfts  first_txn_year  \n",
       "0         NaN            2019  \n",
       "1         NaN            2021  \n",
       "2         NaN            2021  \n",
       "\n",
       "[3 rows x 23 columns]"
      ]
     },
     "execution_count": 8,
     "metadata": {},
     "output_type": "execute_result"
    }
   ],
   "source": [
    "# drop the wallet addresses that have 0 \"out\" transactions\n",
    "# convert first txn date to a datetime object\n",
    "# create new column for txn year (to use for visual analysis and grouping)\n",
    "actuals = rh[rh['num_txns'] != 0].reset_index()\n",
    "actuals['first_txn_date'] = [dt.strptime(actuals['first_txn_date'][row], '%Y-%m-%d') for row in range(len(actuals))]\n",
    "actuals['first_txn_year'] = [actuals['first_txn_date'][row].year for row in range(len(actuals))]\n",
    "actuals.head(3)"
   ]
  },
  {
   "cell_type": "code",
   "execution_count": 16,
   "id": "bcd1563c",
   "metadata": {},
   "outputs": [
    {
     "name": "stdout",
     "output_type": "stream",
     "text": [
      "NUMBER OF WALLETS WITH FIRST TRANSACTION IN EACH YEAR\n",
      "------------\n",
      "first_txn_year\n",
      "2016       15\n",
      "2017      835\n",
      "2018     1475\n",
      "2019      858\n",
      "2020     4095\n",
      "2021    27252\n",
      "Name: index, dtype: int64\n",
      "\n",
      "\n",
      "PERCENT OF WALLETS WITH FIRST TRANSACTION IN EACH YEAR\n",
      "------------\n",
      "first_txn_year\n",
      "2016     0.043440\n",
      "2017     2.418187\n",
      "2018     4.271648\n",
      "2019     2.484796\n",
      "2020    11.859253\n",
      "2021    78.922676\n",
      "Name: index, dtype: float64\n"
     ]
    }
   ],
   "source": [
    "# calculate counts and percentages of wallets by first transaction year\n",
    "# pretty print output\n",
    "counts = actuals.groupby('first_txn_year').count()['index']\n",
    "percentages = (100 * actuals.groupby('first_txn_year').count() / len(actuals))['index']\n",
    "\n",
    "print('NUMBER OF WALLETS WITH FIRST TRANSACTION IN EACH YEAR')\n",
    "print('------------')\n",
    "print(counts)\n",
    "print('\\n')\n",
    "print('PERCENT OF WALLETS WITH FIRST TRANSACTION IN EACH YEAR')\n",
    "print('------------')\n",
    "print(percentages)"
   ]
  },
  {
   "cell_type": "code",
   "execution_count": 17,
   "id": "30dae981",
   "metadata": {},
   "outputs": [
    {
     "data": {
      "image/png": "[encoded data removed]",
      "text/plain": [
       "<Figure size 432x288 with 1 Axes>"
      ]
     },
     "metadata": {
      "needs_background": "light"
     },
     "output_type": "display_data"
    }
   ],
   "source": [
    "# visualize and save data\n",
    "sns.set_context('paper')\n",
    "hist = sns.histplot(actuals['first_txn_year'], discrete=True, stat='count')\n",
    "fig = hist.get_figure()\n",
    "fig.savefig('../figures/wallet_creation_counts.jpeg')"
   ]
  },
  {
   "cell_type": "markdown",
   "id": "c7be90cb",
   "metadata": {},
   "source": [
    "## Answering Question #2: Time before quest completion"
   ]
  },
  {
   "cell_type": "code",
   "execution_count": 19,
   "id": "cae11229",
   "metadata": {},
   "outputs": [
    {
     "name": "stdout",
     "output_type": "stream",
     "text": [
      "8692 out of 36458 total wallet addresses (23.8%) have completed at least one quest\n"
     ]
    }
   ],
   "source": [
    "# select addresses that have completed at least one quest\n",
    "questors = rh[~rh['total_nfts'].isna()].reset_index()\n",
    "percent_questors = (len(questors) / len(rh)) * 100\n",
    "print(f'{len(questors)} out of {len(rh)} total wallet addresses \\\n",
    "({round(percent_questors, 1)}%) have completed at least one quest')"
   ]
  },
  {
   "cell_type": "code",
   "execution_count": 22,
   "id": "2301643b",
   "metadata": {},
   "outputs": [
    {
     "name": "stdout",
     "output_type": "stream",
     "text": [
      "Out of the addresses that possess at least one quest NFT, 1115 (12.8%) have no visible txn history\n",
      "They will be excluded from analysis\n"
     ]
    }
   ],
   "source": [
    "# remove addresses with no \"out\" txns\n",
    "non_ghosts = questors[~questors['first_txn_date'].isna()].reset_index()\n",
    "percent_ghosts = (1 - (len(non_ghosts) / len(questors))) * 100\n",
    "print(f'Out of the addresses that possess at least one quest NFT, \\\n",
    "{len(questors)-len(non_ghosts)} ({round(percent_ghosts, 1)}%) have \\\n",
    "no visible txn history')\n",
    "print('They will be excluded from analysis')"
   ]
  },
  {
   "cell_type": "code",
   "execution_count": 23,
   "id": "748748b5",
   "metadata": {},
   "outputs": [],
   "source": [
    "# change data types and calculate days between first txn and first quest\n",
    "# removing any wallets that completed a quest before their first out transaction\n",
    "non_ghosts['first_txn_date'] = [dt.strptime(non_ghosts['first_txn_date'][row], '%Y-%m-%d') for row in range(len(non_ghosts))]\n",
    "non_ghosts['last_txn_date'] = [dt.strptime(non_ghosts['last_txn_date'][row], '%Y-%m-%d') for row in range(len(non_ghosts))]\n",
    "non_ghosts['first_completion_date'] = [dt.strptime(non_ghosts['first_completion_date'][row], '%Y-%m-%d') for row in range(len(non_ghosts))]\n",
    "non_ghosts['days_between'] = [(non_ghosts['first_completion_date'][row] - non_ghosts['first_txn_date'][row]).days for row in range(len(non_ghosts))]\n",
    "non_ghosts = non_ghosts[non_ghosts['days_between'] >= 0]"
   ]
  },
  {
   "cell_type": "code",
   "execution_count": 24,
   "id": "58356da8",
   "metadata": {},
   "outputs": [
    {
     "data": {
      "image/png": "[encoded data removed]",
      "text/plain": [
       "<Figure size 432x288 with 1 Axes>"
      ]
     },
     "metadata": {
      "needs_background": "light"
     },
     "output_type": "display_data"
    }
   ],
   "source": [
    "# visualize data and save\n",
    "sns.set_context('paper')\n",
    "hist = sns.histplot(non_ghosts['days_between'], binwidth=50)\n",
    "fig = hist.get_figure()\n",
    "fig.savefig('../figures/quest_completion_counts.jpeg')"
   ]
  },
  {
   "cell_type": "code",
   "execution_count": 28,
   "id": "3693285c",
   "metadata": {},
   "outputs": [
    {
     "name": "stdout",
     "output_type": "stream",
     "text": [
      "min, max and quartiles for days between first txn and first quest\n",
      "-------------\n",
      "min       0.0\n",
      "25%       2.0\n",
      "50%      62.0\n",
      "75%     227.0\n",
      "max    1908.0\n",
      "Name: days_between, dtype: float64\n"
     ]
    }
   ],
   "source": [
    "# pretty print descriptive statistics\n",
    "print('min, max and quartiles for days between first txn and first quest')\n",
    "print('-------------')\n",
    "print(non_ghosts['days_between'].describe()[3:])"
   ]
  }
 ],
 "metadata": {
  "kernelspec": {
   "display_name": "Python 3",
   "language": "python",
   "name": "python3"
  },
  "language_info": {
   "codemirror_mode": {
    "name": "ipython",
    "version": 3
   },
   "file_extension": ".py",
   "mimetype": "text/x-python",
   "name": "python",
   "nbconvert_exporter": "python",
   "pygments_lexer": "ipython3",
   "version": "3.8.8"
  }
 },
 "nbformat": 4,
 "nbformat_minor": 5
}
